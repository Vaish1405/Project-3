{
 "cells": [
  {
   "cell_type": "code",
   "execution_count": 1,
   "metadata": {},
   "outputs": [
    {
     "name": "stdout",
     "output_type": "stream",
     "text": [
      "Requirement already satisfied: pytube in c:\\users\\admin\\anaconda3\\lib\\site-packages (10.0.0)\n",
      "Requirement already satisfied: typing-extensions in c:\\users\\admin\\anaconda3\\lib\\site-packages (from pytube) (3.7.4.3)\n",
      "Note: you may need to restart the kernel to use updated packages.\n"
     ]
    }
   ],
   "source": [
    "pip install pytube"
   ]
  },
  {
   "cell_type": "code",
   "execution_count": null,
   "metadata": {},
   "outputs": [],
   "source": [
    "import pytube\n",
    "from pytube import YouTube\n",
    "import os\n",
    "from tkinter import *\n",
    "\n",
    "root = Tk()\n",
    "\n",
    "root.geometry(\"500x400\")\n",
    "root.title(\"YouTube video download\")\n",
    "\n",
    "def youtube():\n",
    "    a = var.get()#a is a link :\"https://www.youtube.com/watch?v=cJOXu8CwDgM\"\n",
    "    ytvideo = YouTube(a).streams.filter(progressive=True, file_extension='mp4').order_by('resolution').desc().first()\n",
    "    ytvideo.download(r\"C:/Users/admin/Desktop/python video download\")\n",
    "    \n",
    "\n",
    "l1 = Label(root,text=\"YouTube video link\", fg=\"red\",font=(\"bold\",20))\n",
    "l1.place(x=70,y=20)\n",
    "\n",
    "l2 = Label(root,text=\"Paste your link here\", fg=\"black\",font=(\"italics\",15))\n",
    "l2.place(x=100,y=60)\n",
    "\n",
    "var = StringVar()\n",
    "\n",
    "e1 = Entry(root, textvariable=var, width=60)\n",
    "e1.place(x=80,y=100)\n",
    "\n",
    "b1 = Button(root, text=\"Download\", command=youtube, bg=\"green\", width=20, fg=\"white\")\n",
    "b1.place(x=120,y=130)\n",
    "\n",
    "\n",
    "\n",
    "root.mainloop()\n",
    "\n"
   ]
  },
  {
   "cell_type": "code",
   "execution_count": null,
   "metadata": {},
   "outputs": [],
   "source": []
  }
 ],
 "metadata": {
  "kernelspec": {
   "display_name": "Python 3",
   "language": "python",
   "name": "python3"
  },
  "language_info": {
   "codemirror_mode": {
    "name": "ipython",
    "version": 3
   },
   "file_extension": ".py",
   "mimetype": "text/x-python",
   "name": "python",
   "nbconvert_exporter": "python",
   "pygments_lexer": "ipython3",
   "version": "3.8.5"
  }
 },
 "nbformat": 4,
 "nbformat_minor": 4
}
